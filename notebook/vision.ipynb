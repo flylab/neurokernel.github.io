{
 "metadata": {
  "name": ""
 },
 "nbformat": 3,
 "nbformat_minor": 0,
 "worksheets": [
  {
   "cells": [
    {
     "cell_type": "heading",
     "level": 1,
     "metadata": {},
     "source": [
      "Vision Model Demo"
     ]
    },
    {
     "cell_type": "markdown",
     "metadata": {},
     "source": [
      "This notebook illustrates how to run a Neurokernel-based model comprising partial models of the fruit fly's lamina and medulla. First, we generate an input and execute the model:"
     ]
    },
    {
     "cell_type": "code",
     "collapsed": false,
     "input": [
      "%cd -q ~/neurokernel/examples/vision/data\n",
      "%run gen_vis_input.py\n",
      "%cd -q ..\n",
      "%run vision_demo.py"
     ],
     "language": "python",
     "metadata": {},
     "outputs": [],
     "prompt_number": 1
    },
    {
     "cell_type": "markdown",
     "metadata": {},
     "source": [
      "Next, we generate a video of the membrane potentials of specific neurons in the two LPUs:"
     ]
    },
    {
     "cell_type": "code",
     "collapsed": false,
     "input": [
      "%run visualize_output.py"
     ],
     "language": "python",
     "metadata": {},
     "outputs": [],
     "prompt_number": 2
    },
    {
     "cell_type": "markdown",
     "metadata": {},
     "source": [
      "The visualization script produces a video that depicts an input signal provided to a grid comprising neurons associated with each of the 768 cartridges in one of the fly's eyes as well as the response of select neurons in the lamina and medulla. The cartridges are organized in a hexagonal grid similar to the following; each pixel in the visualization corresponds to the neuron associated with one cartridge. "
     ]
    },
    {
     "cell_type": "code",
     "collapsed": false,
     "input": [
      "import IPython.display\n",
      "IPython.display.SVG(filename='vision-grid.svg')"
     ],
     "language": "python",
     "metadata": {},
     "outputs": [
      {
       "metadata": {},
       "output_type": "pyout",
       "prompt_number": 3,
       "svg": [
        "<svg height=\"236.45183\" id=\"svg2\" inkscape:export-filename=\"/home/lev/Work/projects/bionet/python/notebooks/vision-grid.png\" inkscape:export-xdpi=\"75\" inkscape:export-ydpi=\"75\" inkscape:version=\"0.48.4 r9939\" sodipodi:docname=\"vision-grid.svg\" version=\"1.1\" width=\"213.77995\" xmlns=\"http://www.w3.org/2000/svg\" xmlns:cc=\"http://creativecommons.org/ns#\" xmlns:dc=\"http://purl.org/dc/elements/1.1/\" xmlns:inkscape=\"http://www.inkscape.org/namespaces/inkscape\" xmlns:rdf=\"http://www.w3.org/1999/02/22-rdf-syntax-ns#\" xmlns:sodipodi=\"http://sodipodi.sourceforge.net/DTD/sodipodi-0.dtd\" xmlns:svg=\"http://www.w3.org/2000/svg\">\n",
        "  <defs id=\"defs4\"/>\n",
        "  <sodipodi:namedview bordercolor=\"#666666\" borderopacity=\"1.0\" fit-margin-bottom=\"5\" fit-margin-left=\"5\" fit-margin-right=\"5\" fit-margin-top=\"5\" id=\"base\" inkscape:current-layer=\"layer1\" inkscape:cx=\"65.028401\" inkscape:cy=\"124.69852\" inkscape:document-units=\"px\" inkscape:guide-bbox=\"true\" inkscape:pageopacity=\"0.0\" inkscape:pageshadow=\"2\" inkscape:snap-global=\"true\" inkscape:window-height=\"981\" inkscape:window-maximized=\"1\" inkscape:window-width=\"1920\" inkscape:window-x=\"1600\" inkscape:window-y=\"25\" inkscape:zoom=\"1.979899\" pagecolor=\"#ffffff\" showgrid=\"true\" showguides=\"true\">\n",
        "    <inkscape:grid empspacing=\"5\" enabled=\"true\" id=\"grid2989\" originx=\"-36.987827mm\" originy=\"-172.81471mm\" snapvisiblegridlinesonly=\"true\" type=\"axonomgrid\" units=\"mm\" visible=\"true\"/>\n",
        "    <sodipodi:guide id=\"guide3063\" orientation=\"1,0\" position=\"7.0275032,87.467546\"/>\n",
        "    <sodipodi:guide id=\"guide3065\" orientation=\"1,0\" position=\"37.713443,69.751006\"/>\n",
        "    <sodipodi:guide id=\"guide3067\" orientation=\"1,0\" position=\"68.399383,52.034476\"/>\n",
        "    <sodipodi:guide id=\"guide3069\" orientation=\"1,0\" position=\"99.085323,59.121086\"/>\n",
        "    <sodipodi:guide id=\"guide3071\" orientation=\"1,0\" position=\"129.77126,87.467546\"/>\n",
        "    <sodipodi:guide id=\"guide3073\" orientation=\"1,0\" position=\"160.4572,87.467546\"/>\n",
        "    <sodipodi:guide id=\"guide3075\" orientation=\"1,0\" position=\"191.14313,87.467546\"/>\n",
        "    <sodipodi:guide id=\"guide3273\" orientation=\"-0.5,0.8660254\" position=\"-100.37329,-27.689934\"/>\n",
        "    <sodipodi:guide id=\"guide3275\" orientation=\"-0.5,0.8660254\" position=\"-146.4022,-18.831664\"/>\n",
        "    <sodipodi:guide id=\"guide3277\" orientation=\"-0.5,0.8660254\" position=\"-284.48893,-45.406474\"/>\n",
        "    <sodipodi:guide id=\"guide3279\" orientation=\"-0.5,0.8660254\" position=\"-299.8319,-18.831664\"/>\n",
        "    <sodipodi:guide id=\"guide4378\" orientation=\"-0.5,0.8660254\" position=\"-11.384064,183.13686\"/>\n",
        "    <sodipodi:guide id=\"guide3985\" orientation=\"-0.5,0.8660254\" position=\"7.0274986,-1.1151006\"/>\n",
        "    <sodipodi:guide id=\"guide3987\" orientation=\"-0.5,0.8660254\" position=\"37.713443,-18.831634\"/>\n",
        "    <sodipodi:guide id=\"guide3989\" orientation=\"0.5,0.8660254\" position=\"129.77126,-18.831639\"/>\n",
        "    <sodipodi:guide id=\"guide3991\" orientation=\"0.5,0.8660254\" position=\"191.14313,-18.831634\"/>\n",
        "    <sodipodi:guide id=\"guide3993\" orientation=\"0.5,0.8660254\" position=\"191.14313,16.601431\"/>\n",
        "    <sodipodi:guide id=\"guide3995\" orientation=\"0.5,0.8660254\" position=\"237.17204,25.459702\"/>\n",
        "    <sodipodi:guide id=\"guide3997\" orientation=\"0.5,0.8660254\" position=\"221.82908,69.75104\"/>\n",
        "    <sodipodi:guide id=\"guide3999\" orientation=\"0.5,0.8660254\" position=\"221.82908,105.18411\"/>\n",
        "    <sodipodi:guide id=\"guide4001\" orientation=\"0.5,0.8660254\" position=\"237.17204,131.75892\"/>\n",
        "    <sodipodi:guide id=\"guide4003\" orientation=\"0.5,0.8660254\" position=\"267.85798,149.47545\"/>\n",
        "  </sodipodi:namedview>\n",
        "  <metadata id=\"metadata7\">\n",
        "    <rdf:RDF>\n",
        "      <cc:Work rdf:about=\"\">\n",
        "        <dc:format>image/svg+xml</dc:format>\n",
        "        <dc:type rdf:resource=\"http://purl.org/dc/dcmitype/StillImage\"/>\n",
        "        <dc:title/>\n",
        "      </cc:Work>\n",
        "    </rdf:RDF>\n",
        "  </metadata>\n",
        "  <g id=\"layer1\" inkscape:groupmode=\"layer\" inkscape:label=\"Layer 1\" transform=\"translate(-131.05923,-203.57475)\">\n",
        "    <path d=\"m 22.78125,202.1875 -15.34375,8.84375 0,17.71875 15.34375,8.875 15.34375,-8.875 0,-17.71875 -15.34375,-8.84375 z\" id=\"path3835\" inkscape:connector-curvature=\"0\" style=\"fill:none;stroke:#000000;stroke-width:4;stroke-linecap:butt;stroke-linejoin:miter;stroke-miterlimit:4;stroke-opacity:1;stroke-dasharray:none\" transform=\"translate(131.08673,195.40158)\"/>\n",
        "    <path d=\"m 184.59644,397.11327 -15.34375,8.84375 0,17.71875 15.34375,8.875 15.34375,-8.875 0,-17.71875 -15.34375,-8.84375 z\" id=\"path3835-9\" inkscape:connector-curvature=\"0\" style=\"fill:none;stroke:#000000;stroke-width:4;stroke-linecap:butt;stroke-linejoin:miter;stroke-miterlimit:4;stroke-opacity:1;stroke-dasharray:none\"/>\n",
        "    <path d=\"m 215.39973,396.93104 -15.34375,8.84375 0,17.71875 15.34375,8.875 15.34375,-8.875 0,-17.71875 -15.34375,-8.84375 z\" id=\"path3835-98\" inkscape:connector-curvature=\"0\" style=\"fill:none;stroke:#000000;stroke-width:4;stroke-linecap:butt;stroke-linejoin:miter;stroke-miterlimit:4;stroke-opacity:1;stroke-dasharray:none\"/>\n",
        "    <path d=\"m 169.10267,370.67119 -15.34375,8.84375 0,17.71875 15.34375,8.875 15.34375,-8.875 0,-17.71875 -15.34375,-8.84375 z\" id=\"path3835-1\" inkscape:connector-curvature=\"0\" style=\"fill:none;stroke:#000000;stroke-width:4;stroke-linecap:butt;stroke-linejoin:miter;stroke-miterlimit:4;stroke-opacity:1;stroke-dasharray:none\"/>\n",
        "    <path d=\"m 199.62993,370.4509 -15.34375,8.84375 0,17.71875 15.34375,8.875 15.34375,-8.875 0,-17.71875 -15.34375,-8.84375 z\" id=\"path3835-3\" inkscape:connector-curvature=\"0\" style=\"fill:none;stroke:#000000;stroke-width:4;stroke-linecap:butt;stroke-linejoin:miter;stroke-miterlimit:4;stroke-opacity:1;stroke-dasharray:none\"/>\n",
        "    <path d=\"m 246.02015,397.05588 -15.34375,8.84375 0,17.71875 15.34375,8.875 15.34375,-8.875 0,-17.71875 -15.34375,-8.84375 z\" id=\"path3835-98-4\" inkscape:connector-curvature=\"0\" style=\"fill:none;stroke:#000000;stroke-width:4;stroke-linecap:butt;stroke-linejoin:miter;stroke-miterlimit:4;stroke-opacity:1;stroke-dasharray:none\"/>\n",
        "    <path d=\"m 230.512,370.38716 -15.34375,8.84375 0,17.71875 15.34375,8.875 15.34375,-8.875 0,-17.71875 -15.34375,-8.84375 z\" id=\"path3835-98-2\" inkscape:connector-curvature=\"0\" style=\"fill:none;stroke:#000000;stroke-width:4;stroke-linecap:butt;stroke-linejoin:miter;stroke-miterlimit:4;stroke-opacity:1;stroke-dasharray:none\"/>\n",
        "    <path d=\"m 276.53768,396.86886 -15.34375,8.84375 0,17.71875 15.34375,8.875 15.34375,-8.875 0,-17.71875 -15.34375,-8.84375 z\" id=\"path3835-98-46\" inkscape:connector-curvature=\"0\" style=\"fill:none;stroke:#000000;stroke-width:4;stroke-linecap:butt;stroke-linejoin:miter;stroke-miterlimit:4;stroke-opacity:1;stroke-dasharray:none\"/>\n",
        "    <path d=\"m 307.19059,397.12528 -15.34375,8.84375 0,17.71875 15.34375,8.875 15.34375,-8.875 0,-17.71875 -15.34375,-8.84375 z\" id=\"path3835-98-20\" inkscape:connector-curvature=\"0\" style=\"fill:none;stroke:#000000;stroke-width:4;stroke-linecap:butt;stroke-linejoin:miter;stroke-miterlimit:4;stroke-opacity:1;stroke-dasharray:none\"/>\n",
        "    <path d=\"m 261.25238,370.34069 -15.34375,8.84375 0,17.71875 15.34375,8.875 15.34375,-8.875 0,-17.71875 -15.34375,-8.84375 z\" id=\"path3835-98-7\" inkscape:connector-curvature=\"0\" style=\"fill:none;stroke:#000000;stroke-width:4;stroke-linecap:butt;stroke-linejoin:miter;stroke-miterlimit:4;stroke-opacity:1;stroke-dasharray:none\"/>\n",
        "    <path d=\"m 291.72391,370.34458 -15.34375,8.84375 0,17.71875 15.34375,8.875 15.34375,-8.875 0,-17.71875 -15.34375,-8.84375 z\" id=\"path3835-98-0\" inkscape:connector-curvature=\"0\" style=\"fill:none;stroke:#000000;stroke-width:4;stroke-linecap:butt;stroke-linejoin:miter;stroke-miterlimit:4;stroke-opacity:1;stroke-dasharray:none\"/>\n",
        "    <path d=\"m 322.49543,370.29405 -15.34375,8.84375 0,17.71875 15.34375,8.875 15.34375,-8.875 0,-17.71875 -15.34375,-8.84375 z\" id=\"path3835-98-21\" inkscape:connector-curvature=\"0\" style=\"fill:none;stroke:#000000;stroke-width:4;stroke-linecap:butt;stroke-linejoin:miter;stroke-miterlimit:4;stroke-opacity:1;stroke-dasharray:none\"/>\n",
        "    <path d=\"m 153.40298,344.22464 -15.34375,8.84375 0,17.71875 15.34375,8.875 15.34375,-8.875 0,-17.71875 -15.34375,-8.84375 z\" id=\"path3835-1-2\" inkscape:connector-curvature=\"0\" style=\"fill:none;stroke:#000000;stroke-width:4;stroke-linecap:butt;stroke-linejoin:miter;stroke-miterlimit:4;stroke-opacity:1;stroke-dasharray:none\"/>\n",
        "    <path d=\"m 183.93024,344.00435 -15.34375,8.84375 0,17.71875 15.34375,8.875 15.34375,-8.875 0,-17.71875 -15.34375,-8.84375 z\" id=\"path3835-3-3\" inkscape:connector-curvature=\"0\" style=\"fill:none;stroke:#000000;stroke-width:4;stroke-linecap:butt;stroke-linejoin:miter;stroke-miterlimit:4;stroke-opacity:1;stroke-dasharray:none\"/>\n",
        "    <path d=\"m 214.81231,343.94061 -15.34375,8.84375 0,17.71875 15.34375,8.875 15.34375,-8.875 0,-17.71875 -15.34375,-8.84375 z\" id=\"path3835-98-2-3\" inkscape:connector-curvature=\"0\" style=\"fill:none;stroke:#000000;stroke-width:4;stroke-linecap:butt;stroke-linejoin:miter;stroke-miterlimit:4;stroke-opacity:1;stroke-dasharray:none\"/>\n",
        "    <path d=\"m 245.55269,343.89414 -15.34375,8.84375 0,17.71875 15.34375,8.875 15.34375,-8.875 0,-17.71875 -15.34375,-8.84375 z\" id=\"path3835-98-7-9\" inkscape:connector-curvature=\"0\" style=\"fill:none;stroke:#000000;stroke-width:4;stroke-linecap:butt;stroke-linejoin:miter;stroke-miterlimit:4;stroke-opacity:1;stroke-dasharray:none\"/>\n",
        "    <path d=\"m 276.02422,343.89803 -15.34375,8.84375 0,17.71875 15.34375,8.875 15.34375,-8.875 0,-17.71875 -15.34375,-8.84375 z\" id=\"path3835-98-0-8\" inkscape:connector-curvature=\"0\" style=\"fill:none;stroke:#000000;stroke-width:4;stroke-linecap:butt;stroke-linejoin:miter;stroke-miterlimit:4;stroke-opacity:1;stroke-dasharray:none\"/>\n",
        "    <path d=\"m 306.79574,343.8475 -15.34375,8.84375 0,17.71875 15.34375,8.875 15.34375,-8.875 0,-17.71875 -15.34375,-8.84375 z\" id=\"path3835-98-21-6\" inkscape:connector-curvature=\"0\" style=\"fill:none;stroke:#000000;stroke-width:4;stroke-linecap:butt;stroke-linejoin:miter;stroke-miterlimit:4;stroke-opacity:1;stroke-dasharray:none\"/>\n",
        "    <path d=\"m 168.73061,317.26516 -15.34375,8.84375 0,17.71875 15.34375,8.875 15.34375,-8.875 0,-17.71875 -15.34375,-8.84375 z\" id=\"path3835-1-9\" inkscape:connector-curvature=\"0\" style=\"fill:none;stroke:#000000;stroke-width:4;stroke-linecap:butt;stroke-linejoin:miter;stroke-miterlimit:4;stroke-opacity:1;stroke-dasharray:none\"/>\n",
        "    <path d=\"m 199.25787,317.04487 -15.34375,8.84375 0,17.71875 15.34375,8.875 15.34375,-8.875 0,-17.71875 -15.34375,-8.84375 z\" id=\"path3835-3-7\" inkscape:connector-curvature=\"0\" style=\"fill:none;stroke:#000000;stroke-width:4;stroke-linecap:butt;stroke-linejoin:miter;stroke-miterlimit:4;stroke-opacity:1;stroke-dasharray:none\"/>\n",
        "    <path d=\"m 230.13994,316.98113 -15.34375,8.84375 0,17.71875 15.34375,8.875 15.34375,-8.875 0,-17.71875 -15.34375,-8.84375 z\" id=\"path3835-98-2-6\" inkscape:connector-curvature=\"0\" style=\"fill:none;stroke:#000000;stroke-width:4;stroke-linecap:butt;stroke-linejoin:miter;stroke-miterlimit:4;stroke-opacity:1;stroke-dasharray:none\"/>\n",
        "    <path d=\"m 260.88032,316.93466 -15.34375,8.84375 0,17.71875 15.34375,8.875 15.34375,-8.875 0,-17.71875 -15.34375,-8.84375 z\" id=\"path3835-98-7-5\" inkscape:connector-curvature=\"0\" style=\"fill:none;stroke:#000000;stroke-width:4;stroke-linecap:butt;stroke-linejoin:miter;stroke-miterlimit:4;stroke-opacity:1;stroke-dasharray:none\"/>\n",
        "    <path d=\"m 291.35185,316.93855 -15.34375,8.84375 0,17.71875 15.34375,8.875 15.34375,-8.875 0,-17.71875 -15.34375,-8.84375 z\" id=\"path3835-98-0-4\" inkscape:connector-curvature=\"0\" style=\"fill:none;stroke:#000000;stroke-width:4;stroke-linecap:butt;stroke-linejoin:miter;stroke-miterlimit:4;stroke-opacity:1;stroke-dasharray:none\"/>\n",
        "    <path d=\"m 322.12337,316.88802 -15.34375,8.84375 0,17.71875 15.34375,8.875 15.34375,-8.875 0,-17.71875 -15.34375,-8.84375 z\" id=\"path3835-98-21-3\" inkscape:connector-curvature=\"0\" style=\"fill:none;stroke:#000000;stroke-width:4;stroke-linecap:butt;stroke-linejoin:miter;stroke-miterlimit:4;stroke-opacity:1;stroke-dasharray:none\"/>\n",
        "    <path d=\"m 153.6504,290.80696 -15.34375,8.84375 0,17.71875 15.34375,8.875 15.34375,-8.875 0,-17.71875 -15.34375,-8.84375 z\" id=\"path3835-1-9-5\" inkscape:connector-curvature=\"0\" style=\"fill:none;stroke:#000000;stroke-width:4;stroke-linecap:butt;stroke-linejoin:miter;stroke-miterlimit:4;stroke-opacity:1;stroke-dasharray:none\"/>\n",
        "    <path d=\"m 184.17766,290.58667 -15.34375,8.84375 0,17.71875 15.34375,8.875 15.34375,-8.875 0,-17.71875 -15.34375,-8.84375 z\" id=\"path3835-3-7-7\" inkscape:connector-curvature=\"0\" style=\"fill:none;stroke:#000000;stroke-width:4;stroke-linecap:butt;stroke-linejoin:miter;stroke-miterlimit:4;stroke-opacity:1;stroke-dasharray:none\"/>\n",
        "    <path d=\"m 215.05973,290.52293 -15.34375,8.84375 0,17.71875 15.34375,8.875 15.34375,-8.875 0,-17.71875 -15.34375,-8.84375 z\" id=\"path3835-98-2-6-1\" inkscape:connector-curvature=\"0\" style=\"fill:none;stroke:#000000;stroke-width:4;stroke-linecap:butt;stroke-linejoin:miter;stroke-miterlimit:4;stroke-opacity:1;stroke-dasharray:none\"/>\n",
        "    <path d=\"m 245.80011,290.47646 -15.34375,8.84375 0,17.71875 15.34375,8.875 15.34375,-8.875 0,-17.71875 -15.34375,-8.84375 z\" id=\"path3835-98-7-5-0\" inkscape:connector-curvature=\"0\" style=\"fill:none;stroke:#000000;stroke-width:4;stroke-linecap:butt;stroke-linejoin:miter;stroke-miterlimit:4;stroke-opacity:1;stroke-dasharray:none\"/>\n",
        "    <path d=\"m 276.27164,290.48035 -15.34375,8.84375 0,17.71875 15.34375,8.875 15.34375,-8.875 0,-17.71875 -15.34375,-8.84375 z\" id=\"path3835-98-0-4-7\" inkscape:connector-curvature=\"0\" style=\"fill:none;stroke:#000000;stroke-width:4;stroke-linecap:butt;stroke-linejoin:miter;stroke-miterlimit:4;stroke-opacity:1;stroke-dasharray:none\"/>\n",
        "    <path d=\"m 307.04316,290.42982 -15.34375,8.84375 0,17.71875 15.34375,8.875 15.34375,-8.875 0,-17.71875 -15.34375,-8.84375 z\" id=\"path3835-98-21-3-1\" inkscape:connector-curvature=\"0\" style=\"fill:none;stroke:#000000;stroke-width:4;stroke-linecap:butt;stroke-linejoin:miter;stroke-miterlimit:4;stroke-opacity:1;stroke-dasharray:none\"/>\n",
        "    <path d=\"m 168.94502,263.92132 -15.34375,8.84375 0,17.71875 15.34375,8.875 15.34375,-8.875 0,-17.71875 -15.34375,-8.84375 z\" id=\"path3835-1-9-8\" inkscape:connector-curvature=\"0\" style=\"fill:none;stroke:#000000;stroke-width:4;stroke-linecap:butt;stroke-linejoin:miter;stroke-miterlimit:4;stroke-opacity:1;stroke-dasharray:none\"/>\n",
        "    <path d=\"m 199.47228,263.70103 -15.34375,8.84375 0,17.71875 15.34375,8.875 15.34375,-8.875 0,-17.71875 -15.34375,-8.84375 z\" id=\"path3835-3-7-8\" inkscape:connector-curvature=\"0\" style=\"fill:none;stroke:#000000;stroke-width:4;stroke-linecap:butt;stroke-linejoin:miter;stroke-miterlimit:4;stroke-opacity:1;stroke-dasharray:none\"/>\n",
        "    <path d=\"m 230.35435,263.63729 -15.34375,8.84375 0,17.71875 15.34375,8.875 15.34375,-8.875 0,-17.71875 -15.34375,-8.84375 z\" id=\"path3835-98-2-6-4\" inkscape:connector-curvature=\"0\" style=\"fill:none;stroke:#000000;stroke-width:4;stroke-linecap:butt;stroke-linejoin:miter;stroke-miterlimit:4;stroke-opacity:1;stroke-dasharray:none\"/>\n",
        "    <path d=\"m 261.09473,263.59082 -15.34375,8.84375 0,17.71875 15.34375,8.875 15.34375,-8.875 0,-17.71875 -15.34375,-8.84375 z\" id=\"path3835-98-7-5-4\" inkscape:connector-curvature=\"0\" style=\"fill:none;stroke:#000000;stroke-width:4;stroke-linecap:butt;stroke-linejoin:miter;stroke-miterlimit:4;stroke-opacity:1;stroke-dasharray:none\"/>\n",
        "    <path d=\"m 291.56626,263.59471 -15.34375,8.84375 0,17.71875 15.34375,8.875 15.34375,-8.875 0,-17.71875 -15.34375,-8.84375 z\" id=\"path3835-98-0-4-2\" inkscape:connector-curvature=\"0\" style=\"fill:none;stroke:#000000;stroke-width:4;stroke-linecap:butt;stroke-linejoin:miter;stroke-miterlimit:4;stroke-opacity:1;stroke-dasharray:none\"/>\n",
        "    <path d=\"m 322.33778,263.54418 -15.34375,8.84375 0,17.71875 15.34375,8.875 15.34375,-8.875 0,-17.71875 -15.34375,-8.84375 z\" id=\"path3835-98-21-3-0\" inkscape:connector-curvature=\"0\" style=\"fill:none;stroke:#000000;stroke-width:4;stroke-linecap:butt;stroke-linejoin:miter;stroke-miterlimit:4;stroke-opacity:1;stroke-dasharray:none\"/>\n",
        "    <path d=\"m 154.02199,237.91196 -15.34375,8.84375 0,17.71875 15.34375,8.875 15.34375,-8.875 0,-17.71875 -15.34375,-8.84375 z\" id=\"path3835-1-9-3\" inkscape:connector-curvature=\"0\" style=\"fill:none;stroke:#000000;stroke-width:4;stroke-linecap:butt;stroke-linejoin:miter;stroke-miterlimit:4;stroke-opacity:1;stroke-dasharray:none\"/>\n",
        "    <path d=\"m 184.54925,237.69167 -15.34375,8.84375 0,17.71875 15.34375,8.875 15.34375,-8.875 0,-17.71875 -15.34375,-8.84375 z\" id=\"path3835-3-7-4\" inkscape:connector-curvature=\"0\" style=\"fill:none;stroke:#000000;stroke-width:4;stroke-linecap:butt;stroke-linejoin:miter;stroke-miterlimit:4;stroke-opacity:1;stroke-dasharray:none\"/>\n",
        "    <path d=\"m 215.43132,237.62793 -15.34375,8.84375 0,17.71875 15.34375,8.875 15.34375,-8.875 0,-17.71875 -15.34375,-8.84375 z\" id=\"path3835-98-2-6-12\" inkscape:connector-curvature=\"0\" style=\"fill:none;stroke:#000000;stroke-width:4;stroke-linecap:butt;stroke-linejoin:miter;stroke-miterlimit:4;stroke-opacity:1;stroke-dasharray:none\"/>\n",
        "    <path d=\"m 246.1717,237.58146 -15.34375,8.84375 0,17.71875 15.34375,8.875 15.34375,-8.875 0,-17.71875 -15.34375,-8.84375 z\" id=\"path3835-98-7-5-45\" inkscape:connector-curvature=\"0\" style=\"fill:none;stroke:#000000;stroke-width:4;stroke-linecap:butt;stroke-linejoin:miter;stroke-miterlimit:4;stroke-opacity:1;stroke-dasharray:none\"/>\n",
        "    <path d=\"m 276.64323,237.58535 -15.34375,8.84375 0,17.71875 15.34375,8.875 15.34375,-8.875 0,-17.71875 -15.34375,-8.84375 z\" id=\"path3835-98-0-4-3\" inkscape:connector-curvature=\"0\" style=\"fill:none;stroke:#000000;stroke-width:4;stroke-linecap:butt;stroke-linejoin:miter;stroke-miterlimit:4;stroke-opacity:1;stroke-dasharray:none\"/>\n",
        "    <path d=\"m 307.41475,237.53482 -15.34375,8.84375 0,17.71875 15.34375,8.875 15.34375,-8.875 0,-17.71875 -15.34375,-8.84375 z\" id=\"path3835-98-21-3-7\" inkscape:connector-curvature=\"0\" style=\"fill:none;stroke:#000000;stroke-width:4;stroke-linecap:butt;stroke-linejoin:miter;stroke-miterlimit:4;stroke-opacity:1;stroke-dasharray:none\"/>\n",
        "    <path d=\"m 168.83889,210.95189 -15.34375,8.84375 0,17.71875 15.34375,8.875 15.34375,-8.875 0,-17.71875 -15.34375,-8.84375 z\" id=\"path3835-1-9-1\" inkscape:connector-curvature=\"0\" style=\"fill:none;stroke:#000000;stroke-width:4;stroke-linecap:butt;stroke-linejoin:miter;stroke-miterlimit:4;stroke-opacity:1;stroke-dasharray:none\"/>\n",
        "    <path d=\"m 199.36615,210.7316 -15.34375,8.84375 0,17.71875 15.34375,8.875 15.34375,-8.875 0,-17.71875 -15.34375,-8.84375 z\" id=\"path3835-3-7-88\" inkscape:connector-curvature=\"0\" style=\"fill:none;stroke:#000000;stroke-width:4;stroke-linecap:butt;stroke-linejoin:miter;stroke-miterlimit:4;stroke-opacity:1;stroke-dasharray:none\"/>\n",
        "    <path d=\"m 230.24822,210.66786 -15.34375,8.84375 0,17.71875 15.34375,8.875 15.34375,-8.875 0,-17.71875 -15.34375,-8.84375 z\" id=\"path3835-98-2-6-9\" inkscape:connector-curvature=\"0\" style=\"fill:none;stroke:#000000;stroke-width:4;stroke-linecap:butt;stroke-linejoin:miter;stroke-miterlimit:4;stroke-opacity:1;stroke-dasharray:none\"/>\n",
        "    <path d=\"m 260.9886,210.62139 -15.34375,8.84375 0,17.71875 15.34375,8.875 15.34375,-8.875 0,-17.71875 -15.34375,-8.84375 z\" id=\"path3835-98-7-5-47\" inkscape:connector-curvature=\"0\" style=\"fill:none;stroke:#000000;stroke-width:4;stroke-linecap:butt;stroke-linejoin:miter;stroke-miterlimit:4;stroke-opacity:1;stroke-dasharray:none\"/>\n",
        "    <path d=\"m 291.46013,210.62528 -15.34375,8.84375 0,17.71875 15.34375,8.875 15.34375,-8.875 0,-17.71875 -15.34375,-8.84375 z\" id=\"path3835-98-0-4-73\" inkscape:connector-curvature=\"0\" style=\"fill:none;stroke:#000000;stroke-width:4;stroke-linecap:butt;stroke-linejoin:miter;stroke-miterlimit:4;stroke-opacity:1;stroke-dasharray:none\"/>\n",
        "    <path d=\"m 322.23165,210.57475 -15.34375,8.84375 0,17.71875 15.34375,8.875 15.34375,-8.875 0,-17.71875 -15.34375,-8.84375 z\" id=\"path3835-98-21-3-4\" inkscape:connector-curvature=\"0\" style=\"fill:none;stroke:#000000;stroke-width:4;stroke-linecap:butt;stroke-linejoin:miter;stroke-miterlimit:4;stroke-opacity:1;stroke-dasharray:none\"/>\n",
        "  </g>\n",
        "</svg>"
       ],
       "text": [
        "<IPython.core.display.SVG at 0x2db9350>"
       ]
      }
     ],
     "prompt_number": 3
    },
    {
     "cell_type": "markdown",
     "metadata": {},
     "source": [
      "The input signal is propagated to the various neurons in the model as follows:"
     ]
    },
    {
     "cell_type": "code",
     "collapsed": false,
     "input": [
      "IPython.display.SVG(filename=\"vision-pipeline.svg\")"
     ],
     "language": "python",
     "metadata": {},
     "outputs": [
      {
       "metadata": {},
       "output_type": "pyout",
       "prompt_number": 4,
       "svg": [
        "<svg height=\"390.96967\" id=\"svg3378\" inkscape:export-filename=\"/home/lev/Work/projects/bionet/python/notebooks/vision-pipeline.png\" inkscape:export-xdpi=\"74.887856\" inkscape:export-ydpi=\"74.887856\" inkscape:version=\"0.48.4 r9939\" sodipodi:docname=\"vision-pipeline.svg\" version=\"1.1\" width=\"753.66254\" xmlns=\"http://www.w3.org/2000/svg\" xmlns:cc=\"http://creativecommons.org/ns#\" xmlns:dc=\"http://purl.org/dc/elements/1.1/\" xmlns:inkscape=\"http://www.inkscape.org/namespaces/inkscape\" xmlns:rdf=\"http://www.w3.org/1999/02/22-rdf-syntax-ns#\" xmlns:sodipodi=\"http://sodipodi.sourceforge.net/DTD/sodipodi-0.dtd\" xmlns:svg=\"http://www.w3.org/2000/svg\">\n",
        "  <defs id=\"defs3380\">\n",
        "    <inkscape:perspective id=\"perspective3982\" inkscape:persp3d-origin=\"372.04724 : 350.78739 : 1\" inkscape:vp_x=\"0 : 526.18109 : 1\" inkscape:vp_y=\"0 : 1000 : 0\" inkscape:vp_z=\"744.09448 : 526.18109 : 1\" sodipodi:type=\"inkscape:persp3d\"/>\n",
        "    <marker id=\"Arrow2Mend\" inkscape:stockid=\"Arrow2Mend\" orient=\"auto\" refX=\"0\" refY=\"0\" style=\"overflow:visible\">\n",
        "      <path d=\"M 8.7185878,4.0337352 -2.2072895,0.01601326 8.7185884,-4.0017078 c -1.7454984,2.3720609 -1.7354408,5.6174519 -6e-7,8.035443 z\" id=\"path4289\" inkscape:connector-curvature=\"0\" style=\"fill-rule:evenodd;stroke-width:0.625;stroke-linejoin:round\" transform=\"scale(-0.6,-0.6)\"/>\n",
        "    </marker>\n",
        "    <marker id=\"Arrow2Lend\" inkscape:stockid=\"Arrow2Lend\" orient=\"auto\" refX=\"0\" refY=\"0\" style=\"overflow:visible\">\n",
        "      <path d=\"M 8.7185878,4.0337352 -2.2072895,0.01601326 8.7185884,-4.0017078 c -1.7454984,2.3720609 -1.7354408,5.6174519 -6e-7,8.035443 z\" id=\"path4283\" inkscape:connector-curvature=\"0\" style=\"fill-rule:evenodd;stroke-width:0.625;stroke-linejoin:round\" transform=\"matrix(-1.1,0,0,-1.1,-1.1,0)\"/>\n",
        "    </marker>\n",
        "    <marker id=\"Arrow1Mend\" inkscape:stockid=\"Arrow1Mend\" orient=\"auto\" refX=\"0\" refY=\"0\" style=\"overflow:visible\">\n",
        "      <path d=\"M 0,0 5,-5 -12.5,0 5,5 0,0 z\" id=\"path4271\" inkscape:connector-curvature=\"0\" style=\"fill-rule:evenodd;stroke:#000000;stroke-width:1pt\" transform=\"matrix(-0.4,0,0,-0.4,-4,0)\"/>\n",
        "    </marker>\n",
        "    <marker id=\"Arrow2Mend-7\" inkscape:stockid=\"Arrow2Mend\" orient=\"auto\" refX=\"0\" refY=\"0\" style=\"overflow:visible\">\n",
        "      <path d=\"M 8.7185878,4.0337352 -2.2072895,0.01601326 8.7185884,-4.0017078 c -1.7454984,2.3720609 -1.7354408,5.6174519 -6e-7,8.035443 z\" id=\"path4289-5\" inkscape:connector-curvature=\"0\" style=\"fill-rule:evenodd;stroke-width:0.625;stroke-linejoin:round\" transform=\"scale(-0.6,-0.6)\"/>\n",
        "    </marker>\n",
        "    <marker id=\"Arrow2Mend-1\" inkscape:stockid=\"Arrow2Mend\" orient=\"auto\" refX=\"0\" refY=\"0\" style=\"overflow:visible\">\n",
        "      <path d=\"M 8.7185878,4.0337352 -2.2072895,0.01601326 8.7185884,-4.0017078 c -1.7454984,2.3720609 -1.7354408,5.6174519 -6e-7,8.035443 z\" id=\"path4289-9\" inkscape:connector-curvature=\"0\" style=\"fill-rule:evenodd;stroke-width:0.625;stroke-linejoin:round\" transform=\"scale(-0.6,-0.6)\"/>\n",
        "    </marker>\n",
        "    <filter color-interpolation-filters=\"sRGB\" id=\"filter4142\" inkscape:label=\"Drop Shadow\">\n",
        "      <feFlood flood-color=\"rgb(0,0,0)\" flood-opacity=\"0.5\" id=\"feFlood4144\" result=\"flood\"/>\n",
        "      <feComposite id=\"feComposite4146\" in=\"flood\" in2=\"SourceGraphic\" operator=\"in\" result=\"composite1\"/>\n",
        "      <feGaussianBlur id=\"feGaussianBlur4148\" result=\"blur\" stdDeviation=\"5\"/>\n",
        "      <feOffset dx=\"5\" dy=\"5\" id=\"feOffset4150\" result=\"offset\"/>\n",
        "      <feComposite id=\"feComposite4152\" in=\"SourceGraphic\" in2=\"offset\" operator=\"over\" result=\"composite2\"/>\n",
        "    </filter>\n",
        "    <filter color-interpolation-filters=\"sRGB\" id=\"filter4154\" inkscape:label=\"Drop Shadow\">\n",
        "      <feFlood flood-color=\"rgb(0,0,0)\" flood-opacity=\"0.5\" id=\"feFlood4156\" result=\"flood\"/>\n",
        "      <feComposite id=\"feComposite4158\" in=\"flood\" in2=\"SourceGraphic\" operator=\"in\" result=\"composite1\"/>\n",
        "      <feGaussianBlur id=\"feGaussianBlur4160\" result=\"blur\" stdDeviation=\"5\"/>\n",
        "      <feOffset dx=\"5\" dy=\"5\" id=\"feOffset4162\" result=\"offset\"/>\n",
        "      <feComposite id=\"feComposite4164\" in=\"SourceGraphic\" in2=\"offset\" operator=\"over\" result=\"composite2\"/>\n",
        "    </filter>\n",
        "    <filter color-interpolation-filters=\"sRGB\" id=\"filter4166\" inkscape:label=\"Drop Shadow\">\n",
        "      <feFlood flood-color=\"rgb(0,0,0)\" flood-opacity=\"0.5\" id=\"feFlood4168\" result=\"flood\"/>\n",
        "      <feComposite id=\"feComposite4170\" in=\"flood\" in2=\"SourceGraphic\" operator=\"in\" result=\"composite1\"/>\n",
        "      <feGaussianBlur id=\"feGaussianBlur4172\" result=\"blur\" stdDeviation=\"5\"/>\n",
        "      <feOffset dx=\"5\" dy=\"5\" id=\"feOffset4174\" result=\"offset\"/>\n",
        "      <feComposite id=\"feComposite4176\" in=\"SourceGraphic\" in2=\"offset\" operator=\"over\" result=\"composite2\"/>\n",
        "    </filter>\n",
        "  </defs>\n",
        "  <sodipodi:namedview bordercolor=\"#666666\" borderopacity=\"1.0\" fit-margin-bottom=\"5\" fit-margin-left=\"5\" fit-margin-right=\"5\" fit-margin-top=\"5\" id=\"base\" inkscape:current-layer=\"layer1\" inkscape:cx=\"460.21786\" inkscape:cy=\"184.02267\" inkscape:document-units=\"px\" inkscape:guide-bbox=\"true\" inkscape:pageopacity=\"0.0\" inkscape:pageshadow=\"2\" inkscape:window-height=\"981\" inkscape:window-maximized=\"1\" inkscape:window-width=\"1920\" inkscape:window-x=\"1600\" inkscape:window-y=\"25\" inkscape:zoom=\"1.4\" pagecolor=\"#ffffff\" showgrid=\"true\" showguides=\"true\">\n",
        "    <inkscape:grid empspacing=\"5\" enabled=\"true\" id=\"grid3386\" originx=\"2.4271104mm\" originy=\"-170.35925mm\" snapvisiblegridlinesonly=\"true\" type=\"axonomgrid\" units=\"mm\" visible=\"true\"/>\n",
        "    <sodipodi:guide id=\"guide4254\" orientation=\"0,1\" position=\"238.74455,113.88456\"/>\n",
        "    <sodipodi:guide id=\"guide5108\" orientation=\"0,1\" position=\"269.43049,308.76645\"/>\n",
        "    <sodipodi:guide id=\"guide5110\" orientation=\"1,0\" position=\"146.68673,167.03417\"/>\n",
        "    <sodipodi:guide id=\"guide5112\" orientation=\"1,0\" position=\"330.80236,167.03417\"/>\n",
        "    <sodipodi:guide id=\"guide5171\" orientation=\"1,0\" position=\"238.74455,149.31764\"/>\n",
        "    <sodipodi:guide id=\"guide5173\" orientation=\"1,0\" position=\"422.86018,78.451488\"/>\n",
        "    <sodipodi:guide id=\"guide5199\" orientation=\"1,0\" position=\"514.918,149.31764\"/>\n",
        "    <sodipodi:guide id=\"guide5201\" orientation=\"1,0\" position=\"606.97582,96.168028\"/>\n",
        "    <sodipodi:guide id=\"guide5203\" orientation=\"1,0\" position=\"54.628906,131.6011\"/>\n",
        "    <sodipodi:guide id=\"guide5262\" orientation=\"1,0\" position=\"699.03364,96.168028\"/>\n",
        "    <sodipodi:guide id=\"guide5338\" orientation=\"0,1\" position=\"330.80236,344.19952\"/>\n",
        "    <sodipodi:guide id=\"guide5340\" orientation=\"0,1\" position=\"392.17424,78.451488\"/>\n",
        "  </sodipodi:namedview>\n",
        "  <metadata id=\"metadata3383\">\n",
        "    <rdf:RDF>\n",
        "      <cc:Work rdf:about=\"\">\n",
        "        <dc:format>image/svg+xml</dc:format>\n",
        "        <dc:type rdf:resource=\"http://purl.org/dc/dcmitype/StillImage\"/>\n",
        "        <dc:title/>\n",
        "      </cc:Work>\n",
        "    </rdf:RDF>\n",
        "  </metadata>\n",
        "  <g id=\"layer1\" inkscape:groupmode=\"layer\" inkscape:label=\"Layer 1\" transform=\"translate(8.5999973,-57.757423)\">\n",
        "    <rect height=\"265.74802\" id=\"rect4016\" ry=\"26.574785\" style=\"fill:#00ffff;fill-opacity:1;stroke:#000000;stroke-width:6;stroke-linecap:butt;stroke-linejoin:miter;stroke-miterlimit:4;stroke-opacity:1;stroke-dasharray:none;stroke-dashoffset:0;filter:url(#filter4166)\" width=\"153.42967\" x=\"15.34297\" y=\"104.52754\"/>\n",
        "    <rect height=\"265.74802\" id=\"rect5336\" ry=\"26.574785\" style=\"fill:#ff6464;fill-opacity:1;stroke:#000000;stroke-width:6;stroke-linecap:butt;stroke-linejoin:miter;stroke-miterlimit:4;stroke-opacity:1;stroke-dasharray:none;stroke-dashoffset:0;filter:url(#filter4142)\" width=\"337.54532\" x=\"199.4586\" y=\"104.52754\"/>\n",
        "    <path d=\"m 153.4297,237.40155 61.37188,0\" id=\"path4256\" inkscape:connector-curvature=\"0\" sodipodi:nodetypes=\"cc\" style=\"fill:none;stroke:#000000;stroke-width:6;stroke-linecap:butt;stroke-linejoin:miter;stroke-miterlimit:4;stroke-opacity:1;stroke-dasharray:none;marker-end:url(#Arrow2Mend)\"/>\n",
        "    <text id=\"text5076\" sodipodi:linespacing=\"125%\" style=\"font-size:40px;font-style:normal;font-variant:normal;font-weight:bold;font-stretch:normal;text-align:center;line-height:125%;letter-spacing:0px;word-spacing:0px;text-anchor:middle;fill:#000000;fill-opacity:1;stroke:none;font-family:Sans;-inkscape-font-specification:Sans Bold\" x=\"92.057816\" xml:space=\"preserve\" y=\"77.952736\"><tspan id=\"tspan5080\" sodipodi:role=\"line\" style=\"font-size:20px\" x=\"92.057816\" y=\"77.952736\">Retinal Input</tspan></text>\n",
        "    <text id=\"text5076-2\" sodipodi:linespacing=\"125%\" style=\"font-size:40px;font-style:normal;font-variant:normal;font-weight:bold;font-stretch:normal;text-align:center;line-height:125%;letter-spacing:0px;word-spacing:0px;text-anchor:middle;fill:#000000;fill-opacity:1;stroke:none;font-family:Sans;-inkscape-font-specification:Sans Bold\" x=\"276.17346\" xml:space=\"preserve\" y=\"414.56693\"><tspan id=\"tspan5078-1\" sodipodi:role=\"line\" style=\"font-size:20px\" x=\"276.17346\" y=\"414.56693\">R1</tspan><tspan id=\"tspan5080-6\" sodipodi:role=\"line\" style=\"font-size:20px\" x=\"276.17346\" y=\"439.56693\">Response</tspan></text>\n",
        "    <path d=\"m 333.4297,237.40155 61.37188,0\" id=\"path4256-0\" inkscape:connector-curvature=\"0\" sodipodi:nodetypes=\"cc\" style=\"fill:none;stroke:#000000;stroke-width:6;stroke-linecap:butt;stroke-linejoin:miter;stroke-miterlimit:4;stroke-opacity:1;stroke-dasharray:none;marker-end:url(#Arrow2Mend)\"/>\n",
        "    <rect height=\"265.74802\" id=\"rect3155\" ry=\"26.574785\" style=\"fill:#00ff96;fill-opacity:1;stroke:#000000;stroke-width:6;stroke-linecap:butt;stroke-linejoin:miter;stroke-miterlimit:4;stroke-opacity:1;stroke-dasharray:none;stroke-dashoffset:0;filter:url(#filter4154)\" width=\"153.4297\" x=\"567.68988\" y=\"104.52754\"/>\n",
        "    <path d=\"m 519.11561,237.40155 61.37188,0\" id=\"path4256-0-4\" inkscape:connector-curvature=\"0\" sodipodi:nodetypes=\"cc\" style=\"fill:none;stroke:#000000;stroke-width:6;stroke-linecap:butt;stroke-linejoin:miter;stroke-miterlimit:4;stroke-opacity:1;stroke-dasharray:none;marker-end:url(#Arrow2Mend)\"/>\n",
        "    <text id=\"text5076-2-4\" sodipodi:linespacing=\"125%\" style=\"font-size:40px;font-style:normal;font-variant:normal;font-weight:bold;font-stretch:normal;text-align:center;line-height:125%;letter-spacing:0px;word-spacing:0px;text-anchor:middle;fill:#000000;fill-opacity:1;stroke:none;font-family:Sans;-inkscape-font-specification:Sans Bold\" x=\"460.28909\" xml:space=\"preserve\" y=\"414.56693\"><tspan id=\"tspan5078-1-6\" sodipodi:role=\"line\" style=\"font-size:20px\" x=\"460.28909\" y=\"414.56693\">L1</tspan><tspan id=\"tspan5080-6-4\" sodipodi:role=\"line\" style=\"font-size:20px\" x=\"460.28909\" y=\"439.56693\">Response</tspan></text>\n",
        "    <text id=\"text5076-2-4-3\" sodipodi:linespacing=\"125%\" style=\"font-size:40px;font-style:normal;font-variant:normal;font-weight:bold;font-stretch:normal;text-align:center;line-height:125%;letter-spacing:0px;word-spacing:0px;text-anchor:middle;fill:#000000;fill-opacity:1;stroke:none;font-family:Sans;-inkscape-font-specification:Sans Bold\" x=\"644.40472\" xml:space=\"preserve\" y=\"414.56693\"><tspan id=\"tspan5078-1-6-2\" sodipodi:role=\"line\" style=\"font-size:20px\" x=\"644.40472\" y=\"414.56693\">T5a</tspan><tspan id=\"tspan5080-6-4-2\" sodipodi:role=\"line\" style=\"font-size:20px\" x=\"644.40472\" y=\"439.56693\">Response</tspan></text>\n",
        "    <text id=\"text3974\" sodipodi:linespacing=\"125%\" style=\"font-size:20px;font-style:normal;font-variant:normal;font-weight:bold;font-stretch:normal;text-align:center;line-height:125%;letter-spacing:0px;word-spacing:0px;text-anchor:middle;fill:#000000;fill-opacity:1;stroke:none;font-family:Sans;-inkscape-font-specification:Sans Bold\" x=\"368.23126\" xml:space=\"preserve\" y=\"77.952736\"><tspan id=\"tspan3976\" sodipodi:role=\"line\" x=\"368.23126\" y=\"77.952736\">Retina / Lamina</tspan></text>\n",
        "    <text id=\"text3978\" sodipodi:linespacing=\"125%\" style=\"font-size:20px;font-style:normal;font-variant:normal;font-weight:bold;font-stretch:normal;text-align:center;line-height:125%;letter-spacing:0px;word-spacing:0px;text-anchor:middle;fill:#000000;fill-opacity:1;stroke:none;font-family:Sans;-inkscape-font-specification:Sans Bold\" x=\"644.40472\" xml:space=\"preserve\" y=\"77.952736\"><tspan id=\"tspan3980\" sodipodi:role=\"line\" x=\"644.40472\" y=\"77.952736\">Medulla</tspan></text>\n",
        "    <text id=\"text4020\" sodipodi:linespacing=\"125%\" style=\"font-size:20px;font-style:normal;font-variant:normal;font-weight:bold;font-stretch:normal;text-align:center;line-height:125%;letter-spacing:0px;word-spacing:0px;text-anchor:middle;fill:#000000;fill-opacity:1;stroke:none;font-family:Sans;-inkscape-font-specification:Sans Bold\" x=\"92.057816\" xml:space=\"preserve\" y=\"414.56693\"><tspan id=\"tspan4022\" sodipodi:role=\"line\" x=\"92.057816\" y=\"414.56693\">Cartridge</tspan><tspan id=\"tspan4888\" sodipodi:role=\"line\" x=\"92.057816\" y=\"439.56693\">Map</tspan></text>\n",
        "    <g id=\"g4136\" transform=\"translate(798.02052,3.2662928e-7)\">\n",
        "      <path d=\"m -190.85861,135.35283 -4e-5,141.73227 92.057859,-53.14959 0,-141.732304 z\" id=\"path3124\" inkscape:connector-curvature=\"0\" style=\"fill:#ffffff;fill-opacity:1;stroke:#000000;stroke-width:6;stroke-linecap:square;stroke-linejoin:miter;stroke-miterlimit:4;stroke-opacity:1;stroke-dasharray:none\" transform=\"translate(-8.5999973,57.757423)\"/>\n",
        "      <path d=\"m -114.14376,91.061496 0,141.732284 0,0\" id=\"path4110\" inkscape:connector-curvature=\"0\" style=\"fill:none;stroke:#000000;stroke-width:6;stroke-linecap:butt;stroke-linejoin:miter;stroke-miterlimit:4;stroke-opacity:1;stroke-dasharray:none\" transform=\"translate(-8.5999973,57.757423)\"/>\n",
        "      <path d=\"M -98.800791,99.919764 -190.85861,153.06937\" id=\"path4112\" inkscape:connector-curvature=\"0\" style=\"fill:none;stroke:#000000;stroke-width:6;stroke-linecap:butt;stroke-linejoin:miter;stroke-miterlimit:4;stroke-opacity:1;stroke-dasharray:none\" transform=\"translate(-8.5999973,57.757423)\"/>\n",
        "      <path d=\"m -98.800791,117.6363 -92.057819,53.14961\" id=\"path4114\" inkscape:connector-curvature=\"0\" style=\"fill:none;stroke:#000000;stroke-width:6;stroke-linecap:butt;stroke-linejoin:miter;stroke-miterlimit:4;stroke-opacity:1;stroke-dasharray:none\" transform=\"translate(-8.5999973,57.757423)\"/>\n",
        "      <path d=\"m -175.51564,126.49457 0,141.73228\" id=\"path4118\" inkscape:connector-curvature=\"0\" style=\"fill:none;stroke:#000000;stroke-width:6;stroke-linecap:butt;stroke-linejoin:miter;stroke-miterlimit:4;stroke-opacity:1;stroke-dasharray:none\" transform=\"translate(-8.5999973,57.757423)\"/>\n",
        "      <path d=\"m -160.17267,117.6363 0,141.73228\" id=\"path4120\" inkscape:connector-curvature=\"0\" style=\"fill:none;stroke:#000000;stroke-width:6;stroke-linecap:butt;stroke-linejoin:miter;stroke-miterlimit:4;stroke-opacity:1;stroke-dasharray:none\" transform=\"translate(-8.5999973,57.757423)\"/>\n",
        "      <path d=\"m -98.800791,135.35283 -92.057819,53.14961\" id=\"path4122\" inkscape:connector-curvature=\"0\" style=\"fill:none;stroke:#000000;stroke-width:6;stroke-linecap:butt;stroke-linejoin:miter;stroke-miterlimit:4;stroke-opacity:1;stroke-dasharray:none\" transform=\"translate(-8.5999973,57.757423)\"/>\n",
        "      <path d=\"m -98.800791,153.06937 -92.057819,53.14961\" id=\"path4124\" inkscape:connector-curvature=\"0\" style=\"fill:none;stroke:#000000;stroke-width:6;stroke-linecap:butt;stroke-linejoin:miter;stroke-miterlimit:4;stroke-opacity:1;stroke-dasharray:none\" transform=\"translate(-8.5999973,57.757423)\"/>\n",
        "      <path d=\"m -129.48673,99.919764 0,141.732286\" id=\"path4126\" inkscape:connector-curvature=\"0\" style=\"fill:none;stroke:#000000;stroke-width:6;stroke-linecap:butt;stroke-linejoin:miter;stroke-miterlimit:4;stroke-opacity:1;stroke-dasharray:none\" transform=\"translate(-8.5999973,57.757423)\"/>\n",
        "      <path d=\"m -144.8297,108.77803 0,141.73229\" id=\"path4128\" inkscape:connector-curvature=\"0\" style=\"fill:none;stroke:#000000;stroke-width:6;stroke-linecap:butt;stroke-linejoin:miter;stroke-miterlimit:4;stroke-opacity:1;stroke-dasharray:none\" transform=\"translate(-8.5999973,57.757423)\"/>\n",
        "      <path d=\"m -98.800791,170.78591 -92.057819,53.1496\" id=\"path4130\" inkscape:connector-curvature=\"0\" style=\"fill:none;stroke:#000000;stroke-width:6;stroke-linecap:butt;stroke-linejoin:miter;stroke-miterlimit:4;stroke-opacity:1;stroke-dasharray:none\" transform=\"translate(-8.5999973,57.757423)\"/>\n",
        "      <path d=\"m -98.800791,188.50244 -92.057819,53.14961\" id=\"path4132\" inkscape:connector-curvature=\"0\" style=\"fill:none;stroke:#000000;stroke-width:6;stroke-linecap:butt;stroke-linejoin:miter;stroke-miterlimit:4;stroke-opacity:1;stroke-dasharray:none\" transform=\"translate(-8.5999973,57.757423)\"/>\n",
        "      <path d=\"m -98.800791,206.21898 -92.057819,53.1496\" id=\"path4134\" inkscape:connector-curvature=\"0\" style=\"fill:none;stroke:#000000;stroke-width:6;stroke-linecap:butt;stroke-linejoin:miter;stroke-miterlimit:4;stroke-opacity:1;stroke-dasharray:none\" transform=\"translate(-8.5999973,57.757423)\"/>\n",
        "    </g>\n",
        "    <g id=\"g4136-9\" transform=\"translate(245.27639,0.73818101)\">\n",
        "      <path d=\"m -190.85861,135.35283 -4e-5,141.73227 92.057859,-53.14959 0,-141.732304 z\" id=\"path3124-1\" inkscape:connector-curvature=\"0\" style=\"fill:#ffffff;fill-opacity:1;stroke:#000000;stroke-width:6;stroke-linecap:square;stroke-linejoin:miter;stroke-miterlimit:4;stroke-opacity:1;stroke-dasharray:none\" transform=\"translate(-8.5999973,57.757423)\"/>\n",
        "      <path d=\"m -114.14376,91.061496 0,141.732284 0,0\" id=\"path4110-7\" inkscape:connector-curvature=\"0\" style=\"fill:none;stroke:#000000;stroke-width:6;stroke-linecap:butt;stroke-linejoin:miter;stroke-miterlimit:4;stroke-opacity:1;stroke-dasharray:none\" transform=\"translate(-8.5999973,57.757423)\"/>\n",
        "      <path d=\"M -98.800791,99.919764 -190.85861,153.06937\" id=\"path4112-7\" inkscape:connector-curvature=\"0\" style=\"fill:none;stroke:#000000;stroke-width:6;stroke-linecap:butt;stroke-linejoin:miter;stroke-miterlimit:4;stroke-opacity:1;stroke-dasharray:none\" transform=\"translate(-8.5999973,57.757423)\"/>\n",
        "      <path d=\"m -98.800791,117.6363 -92.057819,53.14961\" id=\"path4114-5\" inkscape:connector-curvature=\"0\" style=\"fill:none;stroke:#000000;stroke-width:6;stroke-linecap:butt;stroke-linejoin:miter;stroke-miterlimit:4;stroke-opacity:1;stroke-dasharray:none\" transform=\"translate(-8.5999973,57.757423)\"/>\n",
        "      <path d=\"m -175.51564,126.49457 0,141.73228\" id=\"path4118-7\" inkscape:connector-curvature=\"0\" style=\"fill:none;stroke:#000000;stroke-width:6;stroke-linecap:butt;stroke-linejoin:miter;stroke-miterlimit:4;stroke-opacity:1;stroke-dasharray:none\" transform=\"translate(-8.5999973,57.757423)\"/>\n",
        "      <path d=\"m -160.17267,117.6363 0,141.73228\" id=\"path4120-8\" inkscape:connector-curvature=\"0\" style=\"fill:none;stroke:#000000;stroke-width:6;stroke-linecap:butt;stroke-linejoin:miter;stroke-miterlimit:4;stroke-opacity:1;stroke-dasharray:none\" transform=\"translate(-8.5999973,57.757423)\"/>\n",
        "      <path d=\"m -98.800791,135.35283 -92.057819,53.14961\" id=\"path4122-5\" inkscape:connector-curvature=\"0\" style=\"fill:none;stroke:#000000;stroke-width:6;stroke-linecap:butt;stroke-linejoin:miter;stroke-miterlimit:4;stroke-opacity:1;stroke-dasharray:none\" transform=\"translate(-8.5999973,57.757423)\"/>\n",
        "      <path d=\"m -98.800791,153.06937 -92.057819,53.14961\" id=\"path4124-9\" inkscape:connector-curvature=\"0\" style=\"fill:none;stroke:#000000;stroke-width:6;stroke-linecap:butt;stroke-linejoin:miter;stroke-miterlimit:4;stroke-opacity:1;stroke-dasharray:none\" transform=\"translate(-8.5999973,57.757423)\"/>\n",
        "      <path d=\"m -129.48673,99.919764 0,141.732286\" id=\"path4126-3\" inkscape:connector-curvature=\"0\" style=\"fill:none;stroke:#000000;stroke-width:6;stroke-linecap:butt;stroke-linejoin:miter;stroke-miterlimit:4;stroke-opacity:1;stroke-dasharray:none\" transform=\"translate(-8.5999973,57.757423)\"/>\n",
        "      <path d=\"m -144.8297,108.77803 0,141.73229\" id=\"path4128-7\" inkscape:connector-curvature=\"0\" style=\"fill:none;stroke:#000000;stroke-width:6;stroke-linecap:butt;stroke-linejoin:miter;stroke-miterlimit:4;stroke-opacity:1;stroke-dasharray:none\" transform=\"translate(-8.5999973,57.757423)\"/>\n",
        "      <path d=\"m -98.800791,170.78591 -92.057819,53.1496\" id=\"path4130-1\" inkscape:connector-curvature=\"0\" style=\"fill:none;stroke:#000000;stroke-width:6;stroke-linecap:butt;stroke-linejoin:miter;stroke-miterlimit:4;stroke-opacity:1;stroke-dasharray:none\" transform=\"translate(-8.5999973,57.757423)\"/>\n",
        "      <path d=\"m -98.800791,188.50244 -92.057819,53.14961\" id=\"path4132-7\" inkscape:connector-curvature=\"0\" style=\"fill:none;stroke:#000000;stroke-width:6;stroke-linecap:butt;stroke-linejoin:miter;stroke-miterlimit:4;stroke-opacity:1;stroke-dasharray:none\" transform=\"translate(-8.5999973,57.757423)\"/>\n",
        "      <path d=\"m -98.800791,206.21898 -92.057819,53.1496\" id=\"path4134-6\" inkscape:connector-curvature=\"0\" style=\"fill:none;stroke:#000000;stroke-width:6;stroke-linecap:butt;stroke-linejoin:miter;stroke-miterlimit:4;stroke-opacity:1;stroke-dasharray:none\" transform=\"translate(-8.5999973,57.757423)\"/>\n",
        "    </g>\n",
        "    <g id=\"g4136-8\" transform=\"translate(430.01059,0.23310474)\">\n",
        "      <path d=\"m -190.85861,135.35283 -4e-5,141.73227 92.057859,-53.14959 0,-141.732304 z\" id=\"path3124-3\" inkscape:connector-curvature=\"0\" style=\"fill:#ffffff;fill-opacity:1;stroke:#000000;stroke-width:6;stroke-linecap:square;stroke-linejoin:miter;stroke-miterlimit:4;stroke-opacity:1;stroke-dasharray:none\" transform=\"translate(-8.5999973,57.757423)\"/>\n",
        "      <path d=\"m -114.14376,91.061496 0,141.732284 0,0\" id=\"path4110-9\" inkscape:connector-curvature=\"0\" style=\"fill:none;stroke:#000000;stroke-width:6;stroke-linecap:butt;stroke-linejoin:miter;stroke-miterlimit:4;stroke-opacity:1;stroke-dasharray:none\" transform=\"translate(-8.5999973,57.757423)\"/>\n",
        "      <path d=\"M -98.800791,99.919764 -190.85861,153.06937\" id=\"path4112-73\" inkscape:connector-curvature=\"0\" style=\"fill:none;stroke:#000000;stroke-width:6;stroke-linecap:butt;stroke-linejoin:miter;stroke-miterlimit:4;stroke-opacity:1;stroke-dasharray:none\" transform=\"translate(-8.5999973,57.757423)\"/>\n",
        "      <path d=\"m -98.800791,117.6363 -92.057819,53.14961\" id=\"path4114-9\" inkscape:connector-curvature=\"0\" style=\"fill:none;stroke:#000000;stroke-width:6;stroke-linecap:butt;stroke-linejoin:miter;stroke-miterlimit:4;stroke-opacity:1;stroke-dasharray:none\" transform=\"translate(-8.5999973,57.757423)\"/>\n",
        "      <path d=\"m -175.51564,126.49457 0,141.73228\" id=\"path4118-1\" inkscape:connector-curvature=\"0\" style=\"fill:none;stroke:#000000;stroke-width:6;stroke-linecap:butt;stroke-linejoin:miter;stroke-miterlimit:4;stroke-opacity:1;stroke-dasharray:none\" transform=\"translate(-8.5999973,57.757423)\"/>\n",
        "      <path d=\"m -160.17267,117.6363 0,141.73228\" id=\"path4120-4\" inkscape:connector-curvature=\"0\" style=\"fill:none;stroke:#000000;stroke-width:6;stroke-linecap:butt;stroke-linejoin:miter;stroke-miterlimit:4;stroke-opacity:1;stroke-dasharray:none\" transform=\"translate(-8.5999973,57.757423)\"/>\n",
        "      <path d=\"m -98.800791,135.35283 -92.057819,53.14961\" id=\"path4122-4\" inkscape:connector-curvature=\"0\" style=\"fill:none;stroke:#000000;stroke-width:6;stroke-linecap:butt;stroke-linejoin:miter;stroke-miterlimit:4;stroke-opacity:1;stroke-dasharray:none\" transform=\"translate(-8.5999973,57.757423)\"/>\n",
        "      <path d=\"m -98.800791,153.06937 -92.057819,53.14961\" id=\"path4124-6\" inkscape:connector-curvature=\"0\" style=\"fill:none;stroke:#000000;stroke-width:6;stroke-linecap:butt;stroke-linejoin:miter;stroke-miterlimit:4;stroke-opacity:1;stroke-dasharray:none\" transform=\"translate(-8.5999973,57.757423)\"/>\n",
        "      <path d=\"m -129.48673,99.919764 0,141.732286\" id=\"path4126-0\" inkscape:connector-curvature=\"0\" style=\"fill:none;stroke:#000000;stroke-width:6;stroke-linecap:butt;stroke-linejoin:miter;stroke-miterlimit:4;stroke-opacity:1;stroke-dasharray:none\" transform=\"translate(-8.5999973,57.757423)\"/>\n",
        "      <path d=\"m -144.8297,108.77803 0,141.73229\" id=\"path4128-0\" inkscape:connector-curvature=\"0\" style=\"fill:none;stroke:#000000;stroke-width:6;stroke-linecap:butt;stroke-linejoin:miter;stroke-miterlimit:4;stroke-opacity:1;stroke-dasharray:none\" transform=\"translate(-8.5999973,57.757423)\"/>\n",
        "      <path d=\"m -98.800791,170.78591 -92.057819,53.1496\" id=\"path4130-7\" inkscape:connector-curvature=\"0\" style=\"fill:none;stroke:#000000;stroke-width:6;stroke-linecap:butt;stroke-linejoin:miter;stroke-miterlimit:4;stroke-opacity:1;stroke-dasharray:none\" transform=\"translate(-8.5999973,57.757423)\"/>\n",
        "      <path d=\"m -98.800791,188.50244 -92.057819,53.14961\" id=\"path4132-4\" inkscape:connector-curvature=\"0\" style=\"fill:none;stroke:#000000;stroke-width:6;stroke-linecap:butt;stroke-linejoin:miter;stroke-miterlimit:4;stroke-opacity:1;stroke-dasharray:none\" transform=\"translate(-8.5999973,57.757423)\"/>\n",
        "      <path d=\"m -98.800791,206.21898 -92.057819,53.1496\" id=\"path4134-67\" inkscape:connector-curvature=\"0\" style=\"fill:none;stroke:#000000;stroke-width:6;stroke-linecap:butt;stroke-linejoin:miter;stroke-miterlimit:4;stroke-opacity:1;stroke-dasharray:none\" transform=\"translate(-8.5999973,57.757423)\"/>\n",
        "    </g>\n",
        "    <g id=\"g4136-0\" transform=\"translate(614.36343,0.19423854)\">\n",
        "      <path d=\"m -190.85861,135.35283 -4e-5,141.73227 92.057859,-53.14959 0,-141.732304 z\" id=\"path3124-5\" inkscape:connector-curvature=\"0\" style=\"fill:#ffffff;fill-opacity:1;stroke:#000000;stroke-width:6;stroke-linecap:square;stroke-linejoin:miter;stroke-miterlimit:4;stroke-opacity:1;stroke-dasharray:none\" transform=\"translate(-8.5999973,57.757423)\"/>\n",
        "      <path d=\"m -114.14376,91.061496 0,141.732284 0,0\" id=\"path4110-0\" inkscape:connector-curvature=\"0\" style=\"fill:none;stroke:#000000;stroke-width:6;stroke-linecap:butt;stroke-linejoin:miter;stroke-miterlimit:4;stroke-opacity:1;stroke-dasharray:none\" transform=\"translate(-8.5999973,57.757423)\"/>\n",
        "      <path d=\"M -98.800791,99.919764 -190.85861,153.06937\" id=\"path4112-735\" inkscape:connector-curvature=\"0\" style=\"fill:none;stroke:#000000;stroke-width:6;stroke-linecap:butt;stroke-linejoin:miter;stroke-miterlimit:4;stroke-opacity:1;stroke-dasharray:none\" transform=\"translate(-8.5999973,57.757423)\"/>\n",
        "      <path d=\"m -98.800791,117.6363 -92.057819,53.14961\" id=\"path4114-7\" inkscape:connector-curvature=\"0\" style=\"fill:none;stroke:#000000;stroke-width:6;stroke-linecap:butt;stroke-linejoin:miter;stroke-miterlimit:4;stroke-opacity:1;stroke-dasharray:none\" transform=\"translate(-8.5999973,57.757423)\"/>\n",
        "      <path d=\"m -175.51564,126.49457 0,141.73228\" id=\"path4118-3\" inkscape:connector-curvature=\"0\" style=\"fill:none;stroke:#000000;stroke-width:6;stroke-linecap:butt;stroke-linejoin:miter;stroke-miterlimit:4;stroke-opacity:1;stroke-dasharray:none\" transform=\"translate(-8.5999973,57.757423)\"/>\n",
        "      <path d=\"m -160.17267,117.6363 0,141.73228\" id=\"path4120-2\" inkscape:connector-curvature=\"0\" style=\"fill:none;stroke:#000000;stroke-width:6;stroke-linecap:butt;stroke-linejoin:miter;stroke-miterlimit:4;stroke-opacity:1;stroke-dasharray:none\" transform=\"translate(-8.5999973,57.757423)\"/>\n",
        "      <path d=\"m -98.800791,135.35283 -92.057819,53.14961\" id=\"path4122-6\" inkscape:connector-curvature=\"0\" style=\"fill:none;stroke:#000000;stroke-width:6;stroke-linecap:butt;stroke-linejoin:miter;stroke-miterlimit:4;stroke-opacity:1;stroke-dasharray:none\" transform=\"translate(-8.5999973,57.757423)\"/>\n",
        "      <path d=\"m -98.800791,153.06937 -92.057819,53.14961\" id=\"path4124-60\" inkscape:connector-curvature=\"0\" style=\"fill:none;stroke:#000000;stroke-width:6;stroke-linecap:butt;stroke-linejoin:miter;stroke-miterlimit:4;stroke-opacity:1;stroke-dasharray:none\" transform=\"translate(-8.5999973,57.757423)\"/>\n",
        "      <path d=\"m -129.48673,99.919764 0,141.732286\" id=\"path4126-7\" inkscape:connector-curvature=\"0\" style=\"fill:none;stroke:#000000;stroke-width:6;stroke-linecap:butt;stroke-linejoin:miter;stroke-miterlimit:4;stroke-opacity:1;stroke-dasharray:none\" transform=\"translate(-8.5999973,57.757423)\"/>\n",
        "      <path d=\"m -144.8297,108.77803 0,141.73229\" id=\"path4128-3\" inkscape:connector-curvature=\"0\" style=\"fill:none;stroke:#000000;stroke-width:6;stroke-linecap:butt;stroke-linejoin:miter;stroke-miterlimit:4;stroke-opacity:1;stroke-dasharray:none\" transform=\"translate(-8.5999973,57.757423)\"/>\n",
        "      <path d=\"m -98.800791,170.78591 -92.057819,53.1496\" id=\"path4130-6\" inkscape:connector-curvature=\"0\" style=\"fill:none;stroke:#000000;stroke-width:6;stroke-linecap:butt;stroke-linejoin:miter;stroke-miterlimit:4;stroke-opacity:1;stroke-dasharray:none\" transform=\"translate(-8.5999973,57.757423)\"/>\n",
        "      <path d=\"m -98.800791,188.50244 -92.057819,53.14961\" id=\"path4132-8\" inkscape:connector-curvature=\"0\" style=\"fill:none;stroke:#000000;stroke-width:6;stroke-linecap:butt;stroke-linejoin:miter;stroke-miterlimit:4;stroke-opacity:1;stroke-dasharray:none\" transform=\"translate(-8.5999973,57.757423)\"/>\n",
        "      <path d=\"m -98.800791,206.21898 -92.057819,53.1496\" id=\"path4134-8\" inkscape:connector-curvature=\"0\" style=\"fill:none;stroke:#000000;stroke-width:6;stroke-linecap:butt;stroke-linejoin:miter;stroke-miterlimit:4;stroke-opacity:1;stroke-dasharray:none\" transform=\"translate(-8.5999973,57.757423)\"/>\n",
        "    </g>\n",
        "  </g>\n",
        "</svg>"
       ],
       "text": [
        "<IPython.core.display.SVG at 0x14871dd0>"
       ]
      }
     ],
     "prompt_number": 4
    },
    {
     "cell_type": "markdown",
     "metadata": {},
     "source": [
      "The resulting video (hosted on YouTube) can be viewed below:"
     ]
    },
    {
     "cell_type": "code",
     "collapsed": false,
     "input": [
      "IPython.display.YouTubeVideo('UnVt17d5zR4')"
     ],
     "language": "python",
     "metadata": {},
     "outputs": [
      {
       "html": [
        "\n",
        "        <iframe\n",
        "            width=\"400\"\n",
        "            height=300\"\n",
        "            src=\"http://www.youtube.com/embed/UnVt17d5zR4\"\n",
        "            frameborder=\"0\"\n",
        "            allowfullscreen\n",
        "        ></iframe>\n",
        "        "
       ],
       "metadata": {},
       "output_type": "pyout",
       "prompt_number": 5,
       "text": [
        "<IPython.lib.display.YouTubeVideo at 0x2db9310>"
       ]
      }
     ],
     "prompt_number": 5
    }
   ],
   "metadata": {}
  }
 ]
}